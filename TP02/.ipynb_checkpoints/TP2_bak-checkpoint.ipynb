{
 "cells": [
  {
   "cell_type": "markdown",
   "metadata": {},
   "source": [
    "# Exercises Pattern Recognition and Image Analysis"
   ]
  },
  {
   "cell_type": "markdown",
   "metadata": {},
   "source": [
    "Hello world! I have been testing a bit of Image Analysis with Python and scikit-learn. Most of the examples are from practical class but also, there are some others that I found interesting to try. Enjoy!\n",
    "\n",
    "Source: http://lisaserver.ulb.ac.be/documents/INFO-H-500_501/html/infoh501/labs/index.html"
   ]
  },
  {
   "cell_type": "markdown",
   "metadata": {},
   "source": [
    "\n",
    "# LAB 2"
   ]
  },
  {
   "cell_type": "markdown",
   "metadata": {},
   "source": [
    "### Direct approach"
   ]
  },
  {
   "cell_type": "code",
   "execution_count": 32,
   "metadata": {
    "collapsed": true
   },
   "outputs": [],
   "source": [
    "%matplotlib inline\n",
    "\n",
    "# IMPORT LIBRARIES\n",
    "import matplotlib.pyplot as plt\n",
    "\n",
    "from skimage.feature import hog\n",
    "from skimage import data, color, exposure\n",
    "from skimage.io import imread\n",
    "import numpy as np\n",
    "\n",
    "import os\n",
    "from os.path import isfile, join"
   ]
  },
  {
   "cell_type": "code",
   "execution_count": 33,
   "metadata": {
    "collapsed": true
   },
   "outputs": [],
   "source": [
    "# load all face images from file\n",
    "list_faces_files = os.listdir('faces')"
   ]
  },
  {
   "cell_type": "code",
   "execution_count": 34,
   "metadata": {
    "collapsed": false
   },
   "outputs": [],
   "source": [
    "# set size of matrix\n",
    "imaux = imread('faces/' + list_faces_files[0])\n",
    "# getting only one channel from the images\n",
    "if(len(imaux.shape)==3):\n",
    "        imaux = imaux[:,:,0]\n",
    "imaux = imaux[::5,::5].flatten()\n",
    "# print(imaux.max())\n",
    "\n",
    "rows = len(list_faces_files)\n",
    "cols = len(imaux)\n",
    "\n",
    "# create matrix\n",
    "mat = np.zeros((rows,cols))"
   ]
  },
  {
   "cell_type": "code",
   "execution_count": 35,
   "metadata": {
    "collapsed": true
   },
   "outputs": [],
   "source": [
    "i = 0\n",
    "# iterate each file and save it to a matrix\n",
    "for face_file in list_faces_files:\n",
    "    im = imread('faces/' + face_file)\n",
    "    if(len(im.shape)==3):\n",
    "        im = im[:,:,0]\n",
    "    im = im[::5,::5].flatten()\n",
    "    mat[i,:] = im\n",
    "    i = i + 1\n",
    "\n",
    "T = mat"
   ]
  },
  {
   "cell_type": "code",
   "execution_count": 36,
   "metadata": {
    "collapsed": false
   },
   "outputs": [
    {
     "data": {
      "text/plain": [
       "<matplotlib.image.AxesImage at 0x116299790>"
      ]
     },
     "execution_count": 36,
     "metadata": {},
     "output_type": "execute_result"
    },
    {
     "data": {
      "image/png": "[encoded data removed]",
      "text/plain": [
       "<matplotlib.figure.Figure at 0x1112d7790>"
      ]
     },
     "metadata": {},
     "output_type": "display_data"
    }
   ],
   "source": [
    "# get the average face\n",
    "T_mean = T.mean(axis=0)\n",
    "im_plt = T_mean.reshape(40,34)\n",
    "\n",
    "# print average face\n",
    "plt.imshow(im_plt, cmap=plt.cm.gray)"
   ]
  },
  {
   "cell_type": "code",
   "execution_count": 37,
   "metadata": {
    "collapsed": false
   },
   "outputs": [
    {
     "data": {
      "text/plain": [
       "<matplotlib.image.AxesImage at 0x1112ee3d0>"
      ]
     },
     "execution_count": 37,
     "metadata": {},
     "output_type": "execute_result"
    },
    {
     "data": {
      "image/png": "[encoded data removed]",
      "text/plain": [
       "<matplotlib.figure.Figure at 0x111197bd0>"
      ]
     },
     "metadata": {},
     "output_type": "display_data"
    }
   ],
   "source": [
    "# center data (all values into 0)\n",
    "T = T - T.mean(axis=0)\n",
    "\n",
    "# first face + the mean face\n",
    "im_plt = T[0,:].reshape(40,34)\n",
    "plt.imshow(im_plt+T_mean.reshape(40,34), cmap=plt.cm.gray)\n",
    "plt.imshow(im_plt, cmap=plt.cm.gray)"
   ]
  },
  {
   "cell_type": "code",
   "execution_count": 38,
   "metadata": {
    "collapsed": true
   },
   "outputs": [],
   "source": [
    "# calculate PCA\n",
    "# get variance\n",
    "\n",
    "# get covariance -> S=TtT\n",
    "S = np.dot(T.transpose(),T)"
   ]
  },
  {
   "cell_type": "code",
   "execution_count": 39,
   "metadata": {
    "collapsed": true
   },
   "outputs": [],
   "source": [
    "# compute the eigen values of the matrix\n",
    "\n",
    "#IMPORT\n",
    "from numpy import linalg as LA\n",
    "\n",
    "# \n",
    "# w, v = LA.eig(np.diag((1, 2, 3)))"
   ]
  },
  {
   "cell_type": "markdown",
   "metadata": {},
   "source": [
    "### Compresion"
   ]
  },
  {
   "cell_type": "code",
   "execution_count": 40,
   "metadata": {
    "collapsed": true
   },
   "outputs": [],
   "source": [
    "# reconstruct images"
   ]
  },
  {
   "cell_type": "markdown",
   "metadata": {},
   "source": [
    "### Indirect approach"
   ]
  },
  {
   "cell_type": "code",
   "execution_count": 41,
   "metadata": {
    "collapsed": true
   },
   "outputs": [],
   "source": [
    "# compute the eigen values of Sind"
   ]
  },
  {
   "cell_type": "code",
   "execution_count": null,
   "metadata": {
    "collapsed": true
   },
   "outputs": [],
   "source": []
  }
 ],
 "metadata": {
  "kernelspec": {
   "display_name": "Python 2",
   "language": "python",
   "name": "python2"
  },
  "language_info": {
   "codemirror_mode": {
    "name": "ipython",
    "version": 2
   },
   "file_extension": ".py",
   "mimetype": "text/x-python",
   "name": "python",
   "nbconvert_exporter": "python",
   "pygments_lexer": "ipython2",
   "version": "2.7.13"
  }
 },
 "nbformat": 4,
 "nbformat_minor": 2
}
